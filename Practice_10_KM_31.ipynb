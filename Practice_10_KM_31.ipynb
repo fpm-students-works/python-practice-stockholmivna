{
  "cells": [
    {
      "cell_type": "markdown",
      "metadata": {
        "id": "FMqboNwO4rVs"
      },
      "source": [
        "# **Курс \"Програмування на мові Python\"**"
      ]
    },
    {
      "cell_type": "markdown",
      "metadata": {
        "id": "A2T6MigL5Z06"
      },
      "source": [
        "## **Практичне зайняття №10**\n",
        "\n",
        "### Тема: \"Лямбда-функції. Функції вищих порядків\""
      ]
    },
    {
      "cell_type": "markdown",
      "metadata": {
        "id": "cfCdgK2zXm7e"
      },
      "source": [
        "### **Завдання 1 (1 бал)**\n",
        "\n",
        "Керівництво будівельної компанії вирішило підняти заробітні плати всім своїм працівникам на 30%. В залежності від спеціалізації та стажу працівники мають різну заробітну плату. Для підготовки звіту необхідно розрахувати нову заробітну плату для працівників компанії, а також суму індексації.\n",
        "\n",
        "Написати програму, яка буде генерувати таблицю для цього звіту. Початкова заробітна плата працівників подана у списку salary_list (у тисячах гривень). \n",
        "\n",
        "1. Для підрахунку невідомих значень повинні використовуватись вбудовані функції вищих порядків.\n",
        "\n",
        "2. Зарплата після індексації та сума індексації для працівників різних категорій повинні зберігатись у двох окремих списках. Порядок значень у кожному з нових списків повинен відповідати порядку значень у списку salary_list.\n",
        "\n",
        "3. Кожне підраховане числове значення має бути округлене до сотих.\n",
        "\n",
        "4. Дані повинні виводитись у вигляді:\n",
        "\n",
        "**Salary table:**\n",
        "\n",
        "**6.4 8.32 1.92**\n",
        "\n",
        "**9.35 12.16 2.81**\n",
        "\n",
        "**...**\n",
        "\n",
        "salary_list = [6.4, 9.35, 11.4, 14, 23.8, 28.15, 34.7]"
      ]
    },
    {
      "cell_type": "code",
      "execution_count": null,
      "metadata": {
        "id": "ifNX2M7LXm7f"
      },
      "outputs": [],
      "source": [
        "salary_list = [6.4, 9.35, 11.4, 14, 23.8, 28.15, 34.7]\n",
        "def calculate_index(salary):\n",
        "    index_salary = round(0.3*salary, 2)\n",
        "    return index_salary \n",
        "def calculate_new_salary(salary):\n",
        "    index = calculate_index(salary)\n",
        "    new_salary = round(index + salary, 2)\n",
        "    return new_salary\n",
        "new_salaries = [calculate_new_salary(salary) for salary in salary_list]\n",
        "indexes = [calculate_index(salary) for salary in salary_list]\n",
        "print(\"Salary table:\\n\")\n",
        "print(f\"{'Salary':<8} {'Salary index':<15} {'New salary':<10}\")\n",
        "for i in range(len(salary_list)):\n",
        "    print(f\"{str(salary_list[i]).center(6):<12} {indexes[i]:<13} {new_salaries[i]:<10}\")"
      ]
    },
    {
      "cell_type": "markdown",
      "metadata": {},
      "source": [
        "### **Завдання 2 (2 бали)**\n",
        "\n",
        "Зазвичай рік має 365 днів. Однак у високосні роки додається ще один день - 29 лютого. Правила визначення високосного року такі:\n",
        "\n",
        "- Будь-який рік, що ділиться на 400 - високосний.\n",
        "\n",
        "- З тих років, що залишились, будь-який рік, що ділиться на 100 - **не** високосний.\n",
        "\n",
        "- З тих років, що залишились, будь-який рік, що ділиться на 4 - високосний.\n",
        "\n",
        "- Усі інші роки, що залишились - **не** високосні.\n",
        "\n",
        "1) Створіть функцію, в якій за допомогою вбудованих функцій вищих порядків будуть визначатися високосні роки серед перелічених років у списку years. Створена функція має повертати список високосних років.\n",
        "\n",
        "2) Створіть функцію вищих порядків, яка прийматиме на вхід попередню функцію та визначатиме кількість днів у місяці. Також функція повинна приймати на вхід ще 2 параметри: ціле число від 1 до 12 (місяць) та рік, як ціле чотирицифрове число. Ці значення корисувач має вводити з клавіатури. Перевірку введених даних слід виконувати поза межами функцій."
      ]
    },
    {
      "cell_type": "code",
      "execution_count": null,
      "metadata": {},
      "outputs": [],
      "source": [
        "import numpy as np\n",
        "\n",
        "def find_leap(years):\n",
        "    leap_years = years[(years % 400 == 0) | ((years % 4 == 0) & (years % 100 != 0))]\n",
        "    return leap_years\n",
        "years = np.arange(1900, 2020+1, 1)\n",
        "leap_years = find_leap(years)\n",
        "print(\"Leap year's lista\",leap_years)\n",
        "def days_in_month(month, year, leap):\n",
        "    days_in_month = {\n",
        "        '1': 31, '2': 29 if leap(year) else 28, '3': 31, '4': 30, '5': 31, '6': 30, '7': 31, '8': 31, '9': 30, '10': 31, '11': 30, '12': 31\n",
        "    }\n",
        "    if month in days_in_month:\n",
        "        return days_in_month[month]\n",
        "    else:\n",
        "        return None\n",
        "def error(input_data):\n",
        "    try:\n",
        "        int_value = int(input_data)\n",
        "        if int_value < 1 or int_value > 12:\n",
        "            return False\n",
        "        return int_value\n",
        "    except ValueError:\n",
        "        return False\n",
        "input_year = input(\"Enter the year:\")\n",
        "input_month = input(\"Enter the month's number: \")\n",
        "if not (error(input_year) and error(input_month)):\n",
        "    print(\"Oops.. smth went wrong( Enter valid value.\")\n",
        "else:\n",
        "    year = int(input_year)\n",
        "    month = int(input_month)\n",
        "    days = days_in_month(find_leap, month, year)\n",
        "    if days is not None:\n",
        "        print(f\"In the {year}, in the {month} month there are {days} days.\")\n",
        "    else:\n",
        "        print(\"Oops.. smth went wrong( Enter valid value..\")"
      ]
    }
  ],
  "metadata": {
    "colab": {
      "collapsed_sections": [],
      "name": "Practice_7_KM-01_.ipynb",
      "provenance": []
    },
    "kernelspec": {
      "display_name": "Python 3",
      "name": "python3"
    }
  },
  "nbformat": 4,
  "nbformat_minor": 0
}
