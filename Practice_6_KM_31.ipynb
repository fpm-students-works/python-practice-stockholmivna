{
  "cells": [
    {
      "cell_type": "markdown",
      "metadata": {
        "id": "FMqboNwO4rVs"
      },
      "source": [
        "# **Курс \"Програмування на мові Python\"**"
      ]
    },
    {
      "cell_type": "markdown",
      "metadata": {
        "id": "A2T6MigL5Z06"
      },
      "source": [
        "## **Практичне зайняття №6**\n",
        "### Тема: \"Робота з кортежами, множинами та словниками\""
      ]
    },
    {
      "cell_type": "markdown",
      "metadata": {
        "id": "4AV5CN7N4xja"
      },
      "source": [
        "### **Завдання 1 (1,5 бали)**\n",
        "\n",
        "Напишіть програму, яка визначала б, чи можна з літер однієї фрази скласти іншу фразу. Наприклад:\n",
        "\n",
        "\"William Shakespeare\" -> \"A small spark\"\n",
        "\n",
        "Перша фраза містить 11 унікальних літер (хоча деякі повторюються): a, e, h, i, k, l, m, p, r, s та w. Друга фраза містить 7 унікальних літер: a, k, l, m, p, r та s. Кожна з літер другої фрази зустрічається принаймні один раз у першій фразі.\n",
        "\n",
        "1. Обидві фрази повинні вводитись користувачем з клавіатури.\n",
        "\n",
        "2. Скористайтесь властивістю множин у мові програмування Python для виділення колекції унікальних літер.\n",
        "\n",
        "3. У множину не повинні потрапити пробіли, розділові знаки та інші символи, що не є літерами (скористайтесь методом **isalpha()**). Також усі літери мають бути переведені в нижній або верхній регістр (скористайтесь методами **lower()** або **upper()**).\n",
        "\n",
        "4. Зверніть увагу на те, що літери як в першій, так і вдругій фразі можуть повторюватись. Однак множина унікальних літер другої фрази повинна бути підмножиною множини унікальних літер першої фрази.\n",
        "\n",
        "5. У складі змістовного повідомлення програма повинна виводити множину літер першої фрази, множину літер другої фрази, а також змістовне повідомлення про те, чи можна скласти з літер першої фрази другу фразу."
      ]
    },
    {
      "cell_type": "code",
      "execution_count": null,
      "metadata": {
        "id": "9Mesp1jV4xjb"
      },
      "outputs": [],
      "source": [
        "firstword = input(\"Enter the first word or phrase:\")\n",
        "secondword = input(\"Enter the second word or phrase:\")\n",
        "firstletter = set(filter(str.isalpha, firstword.upper()))\n",
        "secondletter = set(filter(str.isalpha, secondword.upper()))\n",
        "if secondletter.issubset(firstletter):\n",
        "    print(\"\\nYou can make a phrase using letters from the first phrase\")\n",
        "    print(\"\\nThere is a set of the first phrase:\", firstletter)\n",
        "    print(\"\\nThere is a set of the first phrase:\", secondletter)\n",
        "else:\n",
        "    print(\"\\nYou can't make a sentence using letters from the first phrase\")\n",
        "    print(\"\\nThere is a set of the first phrase:\", firstletter)\n",
        "    print(\"\\nThere is a set of the first phrase:\", secondletter)\n"
      ]
    },
    {
      "cell_type": "markdown",
      "metadata": {
        "id": "t7fqn1NN-J7z"
      },
      "source": [
        "### **Завдання 2 (1,5 бали)**\n",
        "\n",
        "Скрабл (Ерудит) - це настільна гра, в якій від 2 до 4 гравців складають слова з наявних літер на полі розміром 15 х 15. За кожну використану літеру гравець отримує певну кількість балів. Перелік літер та балів, які можна отримати за використання цих літер, подано у таблиці.\n",
        "\n",
        "Бали | Літери\n",
        "--- | ---\n",
        "1 | A, E, I, L, N, O, R, S, T, U\n",
        "2 | D, G\n",
        "3 | B, C, M, P\n",
        "4 | F, H, V, W, Y\n",
        "5 | K\n",
        "8 | J, X\n",
        "10 | Q, Z\n",
        "\n",
        "Напишіть програму, яка підраховує та виводить загальну кількість балів, яку можна отримати за слово, введене користувачем з клавіатури.\n",
        "\n",
        "1. Скористайтесь словником для збереження усіх балів та літер, за які ці бали нараховуються. \n",
        "\n",
        "2. Якщо користувач введе кілька слів, виведіть бали, які можна отримати за кожне з них окремо.\n",
        "\n",
        "3. Якщо користувач введе символи, що не є літерами (окрім пробіла, який можна використовувати для розділення слів), програма має їх ігнорувати.\n",
        "\n",
        "4. Програма повинна приймати літери як верхнього, так і нижнього регістрів.\n",
        "\n",
        "Наприклад, якщо користувач введе \"Hello, World!\", програма повинна вивести:\n",
        "\n",
        "8 9\n",
        "\n",
        "або більш розгорнутий варіант (за бажанням):\n",
        "\n",
        "4+1+1+1+1=8\n",
        "\n",
        "4+1+1+1+2=9"
      ]
    },
    {
      "cell_type": "code",
      "execution_count": null,
      "metadata": {
        "id": "EVY800vg4xjg"
      },
      "outputs": [],
      "source": [
        "print(\"\\nGame Scramble\")\n",
        "words = input(\"\\nWrite your word(s) to find out your score:\", )\n",
        "points = {\n",
        "    \"A\":1, \"a\":1, \"e\":1, \"E\":1, \"i\":1, \"I\":1, \"l\":1, \"L\":1, \"n\":1, \"N\":1, \"o\":1,  \"O\":1, \"r\":1, \"R\":1, \"s\":1,  \"S\":1, \"t\":1, \"T\":1,\"u\":1, \"U\":1, \n",
        "    \"D\":2, \"d\":2, \"g\":2, \"G\":2, \n",
        "    \"B\":3, \"b\":3,  \"C\":3, \"c\":3, \"M\":3, \"m\":3,\"P\":3, \n",
        "    \"F\":4,\"f\":4, \"h\":4, \"H\":4, \"v\":4, \"V\":4, \"w\":4,\"W\":4, \"y\":4, \"Y\":4, \n",
        "    \"K\":5,  \"k\": 5,\n",
        "    \"J\":8, \"j\": 8, \"X\":8, \"x\":8,\n",
        "    \"Q\":10, \"q\":10, \"z\":10,\"Z\":10\n",
        "}\n",
        "words_edited = words.split()\n",
        "for word in words_edited:\n",
        "    result = 0\n",
        "    for i in word:\n",
        "        if i in points:\n",
        "            result += points[i]\n",
        "    print(\"Your result for\", word + \":\", result)"
      ]
    }
  ],
  "metadata": {
    "colab": {
      "collapsed_sections": [],
      "name": "Practice_5_KM-03_.ipynb",
      "provenance": []
    },
    "kernelspec": {
      "display_name": "Python 3.10.2 64-bit",
      "language": "python",
      "name": "python3"
    },
    "language_info": {
      "name": "python",
      "version": "3.10.2"
    },
    "vscode": {
      "interpreter": {
        "hash": "26de051ba29f2982a8de78e945f0abaf191376122a1563185a90213a26c5da77"
      }
    }
  },
  "nbformat": 4,
  "nbformat_minor": 2
}
