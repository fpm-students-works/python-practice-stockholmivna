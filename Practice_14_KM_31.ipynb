{
  "cells": [
    {
      "cell_type": "markdown",
      "metadata": {
        "id": "FMqboNwO4rVs"
      },
      "source": [
        "# **Курс \"Програмування на мові Python\"**"
      ]
    },
    {
      "cell_type": "markdown",
      "metadata": {
        "id": "A2T6MigL5Z06"
      },
      "source": [
        "## **Практичне зайняття №14**\n",
        "\n",
        "### Тема: \"Робота зі спеціальними форматами файлів\""
      ]
    },
    {
      "cell_type": "markdown",
      "metadata": {
        "id": "A34oz70eU463"
      },
      "source": [
        "### **Завдання 1 (1,5 бали)**\n",
        "\n",
        "Створіть CSV-файл, що буде містити від 5 до 10 пісень (творів) вашого улюбленого музиканта. Назва файлу - ім'я музиканта (композитора) або назва гурту.\n",
        "\n",
        "1. Обов'язково додайте до файлу рядок з назвами двох колонок (Song, Year) або (Composition, Year).\n",
        "\n",
        "2. Після запису файлу роздрукуйте назву файлу та усі наявні у файлі рядки (включно із заголовками).\n",
        "\n",
        "3. Для запису та зчитування рядків скористайтесь функціями csv.DictWriter() та csv.DictReader()."
      ]
    },
    {
      "cell_type": "code",
      "execution_count": 8,
      "metadata": {
        "id": "MEJIrG1GU463"
      },
      "outputs": [
        {
          "name": "stdout",
          "output_type": "stream",
          "text": [
            "Songs and Year\n",
            "-------------------------\n",
            "Two Colors 2022\n",
            "Очі Відьми 2020\n",
            "Йшов я небом 2010\n",
            "Пісня про Жидів 2020\n",
            "Серед тіней 2020\n",
            "Лист додому 2020\n",
            "Палає танк за хатами 2023\n",
            "Lenta za Lentoyu 2020\n",
            "Різдвяна балада 2020\n",
            "Колискова 33 2010\n",
            "\n",
            "Тепер Ви знаєте, що я слухаю.\n",
            "Ps. Two Colors - найкраща версія двох кольорів, яку я коли-небудь чула)\n"
          ]
        }
      ],
      "source": [
        "import csv\n",
        "\n",
        "songs = [\n",
        "    {\"Song\": \"Two Colors\", \"Year\": 2022},\n",
        "    {\"Song\": \"Очі Відьми\", \"Year\": 2020},\n",
        "    {\"Song\": \"Йшов я небом\", \"Year\": 2010},\n",
        "    {\"Song\": \"Пісня про Жидів\", \"Year\": 2020}, \n",
        "    {\"Song\": \"Серед тіней\", \"Year\": 2020}, \n",
        "    {\"Song\": \"Лист додому\", \"Year\": 2020},\n",
        "    {\"Song\": \"Палає танк за хатами\", \"Year\": 2023},\n",
        "    {\"Song\": \"Lenta za Lentoyu\", \"Year\": 2020},\n",
        "    {\"Song\": \"Різдвяна балада\", \"Year\": 2020},\n",
        "    {\"Song\": \"Колискова 33\", \"Year\": 2010},\n",
        "]\n",
        "\n",
        "file = \"Вій.csv\"\n",
        "\n",
        "with open(file, \"w\", newline=\"\") as csvfile:\n",
        "    fieldnames = [\"Song\", \"Year\"]\n",
        "    writer = csv.DictWriter(csvfile, fieldnames=fieldnames)\n",
        "    writer.writeheader()\n",
        "\n",
        "    for song in songs:\n",
        "        writer.writerow(song)\n",
        "\n",
        "with open(file, newline='') as csvfile:\n",
        "    reader = csv.DictReader(csvfile)\n",
        "    print(\"Songs and Year\")\n",
        "    print(\"-\" * 25)\n",
        "    for row in reader:\n",
        "        print(row['Song'], row['Year'])\n",
        "\n",
        "print(\"\\nТепер Ви знаєте, що я слухаю.\\nPs. Two Colors - найкраща версія двох кольорів, яку я коли-небудь чула)\")\n"
      ]
    },
    {
      "cell_type": "markdown",
      "metadata": {
        "id": "Jb-eSBsWU464"
      },
      "source": [
        "### **Завдання 2 (1,5 бали)**\n",
        "\n",
        "COCO Dataset - набір фотографій та анотацій до них. Його дуже часто використовують для тренування класифікаторів, призначених для розпізнавання об'єктів та визначення ключових точок на зображеннях.\n",
        "\n",
        "Завантажте файли з описом фотографій COCO Dataset за посиланням: [COCO Dataset](http://images.cocodataset.org/annotations/image_info_test2017.zip).\n",
        "\n",
        "Відкрийте файл image_info_test-dev2017.json. Інформація про фотографії з бази COCO міститься у полі \"images\". Інформація про категорії, на які розділені всі фотографії, міститься у полі \"categories\".\n",
        "\n",
        "1. Визначте кількість фотографій, інформацію про які можна знайти у цьому файлі (кількість елементів, що відповідають ключу \"images\").\n",
        "\n",
        "2. Визначте кількість наявних категорій (кількість елементів, що відповідають ключу \"categories\").\n",
        "\n",
        "3. Виведіть посилання на фотографію 000000000001.jpg (\"coco_url\"). Також виведіть висоту цієї фотографії (\"height\"), ширину (\"width\") та її ідентифікатор (\"id\").\n",
        "\n",
        "4. Виведіть назву фотографії з набільшим номером.\n",
        "\n",
        "Опис структури JSON-файлу для набору фотографій COCO можна знайти за посиланням: [Data format](https://cocodataset.org/#format-data).\n",
        "\n",
        "Щоб перевірити правильність результатів, у VS Code встановіть розширення JSON та відкрийте файл image_info_test-dev2017.json. Розширення автоматично визначає кількість елементів у кожному полі."
      ]
    },
    {
      "cell_type": "code",
      "execution_count": null,
      "metadata": {},
      "outputs": [],
      "source": [
        "import zipfile\n",
        "import json\n",
        "\n",
        "json_file = \"annotations/image_info_test2017.json\"\n",
        "\n",
        "with zipfile.ZipFile(\"image_info_test2017.zip\", 'r') as zip:\n",
        "    with zip.open(json_file) as photo_info:\n",
        "        data = json.load(photo_info)\n",
        "        num_images = len(data[\"images\"])\n",
        "\n",
        "print(f\"\\nФотографій у файлі: {num_images}\")\n",
        "\n",
        "num_categories = len(data[\"categories\"])\n",
        "print(f\"\\nКількість елементів, що відповідають ключу \\\"categories\\\": {num_categories}\")\n",
        "\n",
        "necessary_photo = next(image for image in data['images'] if image['file_name'] == '000000000001.jpg')\n",
        "print(f\"\\nПосилання на фотографію: {necessary_photo['coco_url']}\")\n",
        "print(f\"\\nВисота: {necessary_photo['height']}, Ширина: {necessary_photo['width']}, Ідентифікатор: {necessary_photo['id']}\")\n",
        "\n",
        "max_image = max(data['images'], key=lambda x: int(x['file_name'].split('.')[0]))['file_name']\n",
        "print(f\"\\nНазва фотографії з найбільшим номером: {max_image}\")"
      ]
    }
  ],
  "metadata": {
    "colab": {
      "collapsed_sections": [],
      "name": "Practice_14_KM_01.ipynb",
      "provenance": []
    },
    "kernelspec": {
      "display_name": "Python 3",
      "name": "python3"
    },
    "language_info": {
      "codemirror_mode": {
        "name": "ipython",
        "version": 3
      },
      "file_extension": ".py",
      "mimetype": "text/x-python",
      "name": "python",
      "nbconvert_exporter": "python",
      "pygments_lexer": "ipython3",
      "version": "3.11.5"
    }
  },
  "nbformat": 4,
  "nbformat_minor": 0
}
