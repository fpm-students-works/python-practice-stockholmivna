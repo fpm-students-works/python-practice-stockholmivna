{
  "cells": [
    {
      "cell_type": "markdown",
      "metadata": {
        "id": "FMqboNwO4rVs"
      },
      "source": [
        "# **Курс \"Програмування на мові Python\"**"
      ]
    },
    {
      "cell_type": "markdown",
      "metadata": {
        "id": "A2T6MigL5Z06"
      },
      "source": [
        "## **Практичне зайняття №16**\n",
        "\n",
        "### Тема: \"Декоратори\""
      ]
    },
    {
      "cell_type": "markdown",
      "metadata": {},
      "source": [
        "### **Завдання 1 (3 бали)**\n",
        "\n",
        "Реалізуйте підрахунок площі трикутника з використанням декоратора, який перевірятиме можливість побудови трикутника з трьох введених користувачем сторін.\n",
        "\n",
        "1. Напишіть функцію area_calculation, яка підраховуватиме площу трикутника за трьома сторонами. Для підрахунку можете скористатись формулою Герона.\n",
        "\n",
        "2. Напишіть функцію check, яка перевірятиме правильність введених користувачем значень (значення мають бути додатними числами, не обов'язково цілими).\n",
        "\n",
        "3. Створіть декоратор triangle_ineq, який перевірятиме виконання нерівності трикутрика для трьох заданих користувачем сторін. Навісьте декоратор triangle_ineq на функція area_calculation та перевірте правильність роботи програми."
      ]
    },
    {
      "cell_type": "code",
      "execution_count": null,
      "metadata": {},
      "outputs": [],
      "source": [
        "import math\n",
        "\n",
        "def triangle_ineq(function):\n",
        "    def inner(side1, side2, side3):\n",
        "        if side1 + side2 > side3 and side2 + side3 > side1 and side1 + side3 > side2:\n",
        "            return function(side1, side2, side3)\n",
        "        return \"Такого трикутника не існує в природі :(\"\n",
        "    return inner    \n",
        "\n",
        "@triangle_ineq\n",
        "def area_calculation(side1, side2, side3):\n",
        "    half_perimeter = (side1 + side2 + side3) / 2\n",
        "    area = math.sqrt(half_perimeter * (half_perimeter - side1) * (half_perimeter - side2) * (half_perimeter - side3))\n",
        "    return round(area, 2)\n",
        "\n",
        "def check():\n",
        "    sides = [None, None, None]\n",
        "    while True:\n",
        "        try:\n",
        "            for i in range(3):\n",
        "                sides[i] = float(input(f\"Введіть {i+1} сторону трикутника : \"))\n",
        "            result = area_calculation(*sides)\n",
        "            print(f\"Площа трикутника формулою герона: {result}\")\n",
        "            break \n",
        "        except ValueError:\n",
        "            print(\"Неправильно введені дані, спробуйте ще раз.\")\n",
        "    return result\n",
        "\n",
        "check()\n"
      ]
    }
  ],
  "metadata": {
    "colab": {
      "collapsed_sections": [],
      "name": "Practice_10-11_KM_01_.ipynb",
      "provenance": []
    },
    "kernelspec": {
      "display_name": "Python 3",
      "name": "python3"
    },
    "language_info": {
      "codemirror_mode": {
        "name": "ipython",
        "version": 3
      },
      "file_extension": ".py",
      "mimetype": "text/x-python",
      "name": "python",
      "nbconvert_exporter": "python",
      "pygments_lexer": "ipython3",
      "version": "3.11.5"
    }
  },
  "nbformat": 4,
  "nbformat_minor": 0
}
