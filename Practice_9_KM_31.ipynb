{
  "cells": [
    {
      "cell_type": "markdown",
      "metadata": {
        "id": "FMqboNwO4rVs"
      },
      "source": [
        "# **Курс \"Програмування на мові Python\"**"
      ]
    },
    {
      "cell_type": "markdown",
      "metadata": {
        "id": "A2T6MigL5Z06"
      },
      "source": [
        "## **Практичне зайняття №9**\n",
        "\n",
        "### Тема: \"Робота з функціями. Локальні та глобальні змінні\""
      ]
    },
    {
      "cell_type": "markdown",
      "metadata": {
        "id": "cfCdgK2zXm7e"
      },
      "source": [
        "### **Завдання 1 (3 бали)**\n",
        "\n",
        "**Підрахувати визначник матриці, використовуючи правило перестановок.**\n",
        "\n",
        "Функція random_matrix() призначена для створення квадратної матриці випадкових чисел. Її змінювати непотрібно.\n",
        "\n",
        "Приклад використання методу permutations() для створення списку перестановок також подається у комірці з кодом.\n",
        "\n",
        "1) Створити 3 функції: функцію створення списку перестановок, функцію підрахунку добутків та функцію підрахунку загальної суми.\n",
        "\n",
        "2) Кожна функція має супроводжуватись рядком документації, що буде коротко описувати її призначення.\n",
        "\n",
        "3) Розмірність квадратної матриці має вводитись користувачем з клавіатури. Підрахунки виконувати лише в тому разі, якщо користувач введе ціле додатне число.\n",
        "\n",
        "4) Загальний результат повинен підраховуватись за допомогою композиції функцій.\n",
        "\n",
        "За бажанням можна перевірити правильність роботи програми за допомогою функції np.linalg.det(a)."
      ]
    },
    {
      "cell_type": "code",
      "execution_count": 4,
      "metadata": {
        "id": "ifNX2M7LXm7f"
      },
      "outputs": [
        {
          "name": "stdout",
          "output_type": "stream",
          "text": [
            "[[4 6 5]\n",
            " [7 1 7]\n",
            " [0 9 9]]\n"
          ]
        }
      ],
      "source": [
        "import numpy as np\n",
        "import itertools\n",
        "\n",
        "def random_matrix(dim):\n",
        "    \"\"\"\n",
        "    Генерує матрицю розміром dim x dim з цілими числами від 0 до 10.\n",
        "    \"\"\"\n",
        "    matrix = np.random.randint(10, size=(dim, dim))\n",
        "    return matrix\n",
        "def permutations(k):\n",
        "    \"\"\"\n",
        "    Генерує всі можливі перестановки чисел від 1 до k.\n",
        "    \"\"\"\n",
        "    return list(itertools.permutations(range(1, k + 1)))\n",
        "def multiplication(matrix, permutation):\n",
        "    \"\"\"\n",
        "    Обчислює добуток елементів матриці, використовуючи дану перестановку.\n",
        "    \"\"\"\n",
        "    result = 1\n",
        "    for i in range(len(permutation)):\n",
        "        result *= matrix[i][permutation[i] - 1]\n",
        "    return result\n",
        "def determinant(matrix):\n",
        "    \"\"\"\n",
        "    Обчислює визначник матриці за допомогою методу перестановок.\n",
        "    \"\"\"\n",
        "    n = len(matrix)\n",
        "    permutations1 = permutations(n)\n",
        "    det = 0\n",
        "    for perm in permutations1:\n",
        "        result = multiplication(matrix, perm)\n",
        "        signofdet = 1\n",
        "        for i in range(n):\n",
        "            for m in range(i + 1, n):\n",
        "                if perm[i] > perm[m]:\n",
        "                    signofdet *= -1\n",
        "        det += signofdet * result\n",
        "    return det\n",
        "dim = int(input(\"Введіть розмірність матриці: \"))\n",
        "if dim <= 0:\n",
        "    print(\"Введіть додатне число, відмінне від нуля.\")\n",
        "else:\n",
        "    matrix = random_matrix(dim)\n",
        "    print(\"Ваша випадкова матриця:\")\n",
        "    print(matrix)\n",
        "    det = determinant(matrix)\n",
        "    print(\"Визначник матриці, обчислений методом перестановок:\", det)\n",
        "    check = np.linalg.det(matrix)\n",
        "    print(\"Перевірка визначника:\", check)"
      ]
    }
  ],
  "metadata": {
    "colab": {
      "collapsed_sections": [],
      "name": "Practice_7_KM-01_.ipynb",
      "provenance": []
    },
    "kernelspec": {
      "display_name": "Python 3.10.2 64-bit",
      "language": "python",
      "name": "python3"
    },
    "language_info": {
      "codemirror_mode": {
        "name": "ipython",
        "version": 3
      },
      "file_extension": ".py",
      "mimetype": "text/x-python",
      "name": "python",
      "nbconvert_exporter": "python",
      "pygments_lexer": "ipython3",
      "version": "3.10.2"
    },
    "vscode": {
      "interpreter": {
        "hash": "26de051ba29f2982a8de78e945f0abaf191376122a1563185a90213a26c5da77"
      }
    }
  },
  "nbformat": 4,
  "nbformat_minor": 0
}
