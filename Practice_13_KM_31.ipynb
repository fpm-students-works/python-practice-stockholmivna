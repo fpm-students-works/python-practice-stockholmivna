{
  "cells": [
    {
      "cell_type": "markdown",
      "metadata": {
        "id": "FMqboNwO4rVs"
      },
      "source": [
        "# **Курс \"Програмування на мові Python\"**"
      ]
    },
    {
      "cell_type": "markdown",
      "metadata": {
        "id": "A2T6MigL5Z06"
      },
      "source": [
        "## **Практичне зайняття №13**\n",
        "\n",
        "### Тема: \"Робота з файлами\""
      ]
    },
    {
      "cell_type": "markdown",
      "metadata": {
        "id": "cfCdgK2zXm7e"
      },
      "source": [
        "### **Завдання 1 (1,5 бали)**\n",
        "\n",
        "У 1939 році друком вийшов роман американського письменика Ернеста Вінсента Райта \"Ґетсбі\". Особливу увагу публіки він здобув через те, що письменник жодного разу не використав у романі літеру \"e\" (роман складається з більше ніж 50,000 слів), яка є найбільш вживаною літерою в англійській мові.\n",
        "\n",
        "Порахуйте кількість входжень кожної літери у текст роману. Виведіть список літер англійського алфавіту, а також інформацію про те, скільки відсотків від усіх літер тексту складає кожна літера алфавіту.\n",
        "\n",
        "Зауваження:\n",
        "\n",
        "1. Програма має ігнорувати будь-які символи, окрім літер.\n",
        "\n",
        "2. Переведіть усі літери у верхній або у нижній регістр.\n",
        "\n",
        "3. Під час виведення відсортуйте літери у порядку зменшення їхнього відсотка. Літера \"e\" має стояти на останньому місці у цьому списку (хоча кілька літер e там все ж таки зустрічається).\n",
        "\n",
        "4. Виведіть перші 5 та останні 5 літер відсортованого списку разом з відсотковими значеннями, що їм відповідають. Відсотки округліть до тисячних."
      ]
    },
    {
      "cell_type": "code",
      "execution_count": null,
      "metadata": {
        "id": "u4-fHJJ6U462",
        "tags": [
          "outputPrepend"
        ]
      },
      "outputs": [],
      "source": [
        "with open('gadsby.txt', 'r') as f:\n",
        "    text = f.read().lower()\n",
        "\n",
        "def symbols(text): #функція яка рахує кількість літер в тексті\n",
        "    letters = {}\n",
        "    sum_letters = 0\n",
        "    for letter in text:\n",
        "        if letter.isalpha():\n",
        "            sum_letters += 1\n",
        "            if letter in letters:\n",
        "               letters[letter] += 1\n",
        "            else:\n",
        "               letters[letter] = 1\n",
        "    return letters, sum_letters\n",
        "\n",
        "letter_count, all_letters = symbols(text)\n",
        "\n",
        "def percentage(letter_count, all_letters): #функція, яка рахує відсоток кількості літер у тексті\n",
        "    letter_percentage = {}\n",
        "    for letter, count in letter_count.items():\n",
        "        percentage = (count/all_letters) * 100\n",
        "        letter_percentage[letter] = percentage\n",
        "    sorted_percentage = sorted(letter_percentage.items(), key=lambda x: x[1], reverse=True)\n",
        "    return sorted_percentage \n",
        "\n",
        "sorted_percentage = percentage(letter_count, all_letters)\n",
        "\n",
        "print(\"\\nEnglish alphabet: A B C D E F G H I J K L M N O P Q R S T U V W X Y Z\") #виведення англ алфавіту і відсотків літер \n",
        "print(\"-\"*70)\n",
        "for letter, percentage in sorted_percentage:\n",
        "    print(f\"Letter '{letter}' - {percentage:.3f}%\")\n",
        "\n",
        "print(\"\\nThe first 5 letters:\")\n",
        "print(\"-\"*20)\n",
        "for letter, percentage in sorted_percentage[:5]:\n",
        "    print(f\"Letter '{letter}' - {percentage:.3f}%\")\n",
        "\n",
        "print(\"\\nThe last  5 letters:\")\n",
        "print(\"-\"*20)\n",
        "for letter, percentage in sorted_percentage[-5:]:\n",
        "    print(f\"Letter '{letter}' - {percentage:.3f}%\")\n"
      ]
    },
    {
      "cell_type": "markdown",
      "metadata": {
        "id": "A34oz70eU463"
      },
      "source": [
        "### **Завдання 2 (1,5 бали)**\n",
        "\n",
        "Архів archive.zip містить 140 txt-файлів, в яких збережено інфорамцію про те, якими іменами називали дітей у США в період з 1880 по 2019 рік.\n",
        "\n",
        "Структура рядка кожного файлу така:\n",
        "\n",
        "*name,sex,number_of_occurrences*\n",
        "\n",
        "Напишіть програму, яка зчитуватиме кожен файл та визначатиме окремо чоловічі, окремо жіночі імена, що були найпопулярнішими хоча б в один з років. Далі програма повинна підраховувати, скільки разів кожне з цих імен ставало найпопулярнишим, та виводити ранжовані списки чоловічіх та жіночих імен у вигляді:\n",
        "\n",
        "```\n",
        "Michael 44\n",
        "John 44\n",
        "Robert 17\n",
        "...\n",
        "\n",
        "Mary 76\n",
        "Jennifer 15\n",
        "Emily 12\n",
        "...\n",
        "```"
      ]
    },
    {
      "cell_type": "code",
      "execution_count": null,
      "metadata": {},
      "outputs": [],
      "source": [
        "import zipfile\n",
        "\n",
        "text_file_pattern = \"yob{}.txt\"\n",
        "\n",
        "with zipfile.ZipFile(\"archive.zip\", 'r') as archive:\n",
        "    for year in range(1880, 2020):\n",
        "        females = {}\n",
        "        males = {}\n",
        "        max_female_occurrences = 0\n",
        "        max_male_occurrences = 0\n",
        "\n",
        "        text_file = text_file_pattern.format(year)\n",
        "        with archive.open(text_file, 'r') as file:\n",
        "            lines = file.readlines()\n",
        "            for line in lines:\n",
        "                decoded_line = line.decode('utf-8').strip()\n",
        "                name, sex, occurrences = decoded_line.split(',')\n",
        "                if sex == \"F\":\n",
        "                    females[name] = int(occurrences)\n",
        "                    if int(occurrences) > max_female_occurrences:\n",
        "                        max_female_occurrences = int(occurrences)\n",
        "                elif sex == \"M\":\n",
        "                    males[name] = int(occurrences)\n",
        "                    if int(occurrences) > max_male_occurrences:\n",
        "                        max_male_occurrences = int(occurrences)\n",
        "\n",
        "        most_popular_female_names = [name for name, occurrences in females.items() if occurrences == max_female_occurrences]\n",
        "        most_popular_male_names = [name for name, occurrences in males.items() if occurrences == max_male_occurrences]\n",
        "\n",
        "        print(\"-\"*30)\n",
        "        print(f\"Year: {year}\")\n",
        "        print(\"\\nMost popular female names:\")\n",
        "        for name in most_popular_female_names:\n",
        "            print(f\"{name} {max_female_occurrences}\")\n",
        "\n",
        "        print(\"Most popular male names:\")\n",
        "        for name in most_popular_male_names:\n",
        "            print(f\"{name} {max_male_occurrences}\")\n"
      ]
    }
  ],
  "metadata": {
    "colab": {
      "collapsed_sections": [],
      "name": "Practice_14_KM_01.ipynb",
      "provenance": []
    },
    "kernelspec": {
      "display_name": "Python 3",
      "name": "python3"
    },
    "language_info": {
      "codemirror_mode": {
        "name": "ipython",
        "version": 3
      },
      "file_extension": ".py",
      "mimetype": "text/x-python",
      "name": "python",
      "nbconvert_exporter": "python",
      "pygments_lexer": "ipython3",
      "version": "3.8.2"
    }
  },
  "nbformat": 4,
  "nbformat_minor": 0
}
